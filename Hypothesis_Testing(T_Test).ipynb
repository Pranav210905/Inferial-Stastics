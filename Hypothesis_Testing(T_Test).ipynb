{
  "cells": [
    {
      "cell_type": "markdown",
      "metadata": {
        "id": "view-in-github",
        "colab_type": "text"
      },
      "source": [
        "<a href=\"https://colab.research.google.com/github/Pranav210905/Inferial-Stastics/blob/main/Hypothesis_Testing(T_Test).ipynb\" target=\"_parent\"><img src=\"https://colab.research.google.com/assets/colab-badge.svg\" alt=\"Open In Colab\"/></a>"
      ]
    },
    {
      "cell_type": "markdown",
      "id": "mImhr-pvpbTW",
      "metadata": {
        "id": "mImhr-pvpbTW"
      },
      "source": [
        "# T test Assignment"
      ]
    },
    {
      "cell_type": "code",
      "execution_count": null,
      "id": "c36489e0",
      "metadata": {
        "id": "c36489e0"
      },
      "outputs": [],
      "source": [
        "import numpy as np\n",
        "import matplotlib.pyplot as plt\n",
        "from scipy.stats import norm\n",
        "from scipy.stats import t"
      ]
    },
    {
      "cell_type": "markdown",
      "id": "6745868b",
      "metadata": {
        "id": "6745868b"
      },
      "source": [
        "---\n",
        "---\n",
        "**1. A nutritionist claims that the average calorie content in a brand of snack bars is 120 calories. To test this claim, a random sample of 10 snack bars is selected, and their calorie content is measured. The sample has a mean calorie content of 125 and a standard deviation of 10 calories. Conduct a one-sample t-test to determine if there is a significant difference between the sample mean and the claimed mean. Use a significance level of 0.05.**"
      ]
    },
    {
      "cell_type": "code",
      "execution_count": null,
      "id": "563f5e63",
      "metadata": {
        "id": "563f5e63"
      },
      "outputs": [],
      "source": [
        "# Calculating t score (One sample test)\n",
        "def t_score(sample_size, sample_mean, pop_mean, sample_std):\n",
        "    std_error = sample_std / sample_size ** 0.5\n",
        "    t = abs((sample_mean - pop_mean) / std_error)\n",
        "    return t"
      ]
    },
    {
      "cell_type": "markdown",
      "id": "b-z8oqu_P6TC",
      "metadata": {
        "id": "b-z8oqu_P6TC"
      },
      "source": [
        "H0:The average calorie in snackBar is 120cal\n",
        "\n",
        "H1:The average calorie in snake is greater than 120"
      ]
    },
    {
      "cell_type": "code",
      "execution_count": null,
      "id": "487ca380",
      "metadata": {
        "colab": {
          "base_uri": "https://localhost:8080/"
        },
        "id": "487ca380",
        "outputId": "d98d9cb9-fc2b-4fb9-dbb0-51d108a46df2"
      },
      "outputs": [
        {
          "name": "stdout",
          "output_type": "stream",
          "text": [
            "Sample Size :  10\n",
            "Sample Mean :  125\n",
            "Sample STD  :  10\n",
            "Degrees of freedom :  9\n"
          ]
        }
      ],
      "source": [
        "pop_mean=120\n",
        "sample_mean=125\n",
        "sample_size=10\n",
        "sample_std=10\n",
        "df=sample_size-1\n",
        "#write your code here\n",
        "print('Sample Size : ', sample_size)\n",
        "print('Sample Mean : ', sample_mean)\n",
        "print('Sample STD  : ', sample_std)\n",
        "print('Degrees of freedom : ', df)"
      ]
    },
    {
      "cell_type": "code",
      "execution_count": null,
      "id": "fea51d01",
      "metadata": {
        "colab": {
          "base_uri": "https://localhost:8080/"
        },
        "id": "fea51d01",
        "outputId": "70af4486-a609-46ef-c691-1fe4dad23206"
      },
      "outputs": [
        {
          "data": {
            "text/plain": [
              "1.5811388300841898"
            ]
          },
          "execution_count": 9,
          "metadata": {},
          "output_type": "execute_result"
        }
      ],
      "source": [
        "# Calculate t score\n",
        "t_value=t_score(sample_size,sample_mean,pop_mean,sample_std)\n",
        "t_value"
      ]
    },
    {
      "cell_type": "code",
      "execution_count": null,
      "id": "62b885bc",
      "metadata": {
        "id": "62b885bc"
      },
      "outputs": [],
      "source": [
        "# calculating critical t value\n",
        "alpha=0.05\n",
        "t_critical=abs(t.ppf(alpha,df))"
      ]
    },
    {
      "cell_type": "code",
      "execution_count": null,
      "id": "d1dabdbe",
      "metadata": {
        "colab": {
          "base_uri": "https://localhost:8080/"
        },
        "id": "d1dabdbe",
        "outputId": "9edbde4f-11d2-421c-bbaa-47a6e56179e8"
      },
      "outputs": [
        {
          "name": "stdout",
          "output_type": "stream",
          "text": [
            "We fail to reject null hypothesis\n"
          ]
        }
      ],
      "source": [
        "# Conclusion\n",
        "if t_value > t_critical:\n",
        "    print('We have sufficient evidence to reject null hypothesis.')\n",
        "else:\n",
        "    print('We fail to reject null hypothesis')"
      ]
    },
    {
      "cell_type": "markdown",
      "id": "35c23e7c",
      "metadata": {
        "id": "35c23e7c"
      },
      "source": [
        "---\n",
        "---\n",
        "**2. A company wants to compare the productivity of two teams. Team A (n = 12) has a mean productivity score of 90 with a standard deviation of 5. Team B (n = 15) has a mean productivity score of 80 with a standard deviation of 6. Assume equal variances and conduct an independent two-sample t-test at a significance level of 0.01.**"
      ]
    },
    {
      "cell_type": "code",
      "execution_count": null,
      "id": "7e7a2631",
      "metadata": {
        "id": "7e7a2631"
      },
      "outputs": [],
      "source": [
        "# Calculating t score (Independent samples t test)\n",
        "def t_score(sample1_size, sample1_mean, sample1_std, sample2_size, sample2_mean, sample2_std):\n",
        "    temp = (sample1_std**2/sample1_size + sample2_std**2/sample2_size)**0.5\n",
        "    t = abs((sample1_mean - sample2_mean) / temp)\n",
        "    return t"
      ]
    },
    {
      "cell_type": "code",
      "execution_count": null,
      "id": "4876698d",
      "metadata": {
        "colab": {
          "base_uri": "https://localhost:8080/"
        },
        "id": "4876698d",
        "outputId": "34364208-6e46-4a8d-8502-c2ed26413eeb"
      },
      "outputs": [
        {
          "name": "stdout",
          "output_type": "stream",
          "text": [
            "Sample1 Size :  12\n",
            "Sample1 Mean :  90\n",
            "Sample1 STD  :  5\n",
            "Sample2 Size :  15\n",
            "Sample2 Mean :  80\n",
            "Sample2 STD  :  6\n",
            "Degrees of freedom :  25\n"
          ]
        }
      ],
      "source": [
        "# write your code here\n",
        "sample1_size=12\n",
        "sample2_size=15\n",
        "df=sample1_size+sample2_size-2\n",
        "sample1_mean=90\n",
        "sample2_mean=80\n",
        "sample1_std=5\n",
        "sample2_std=6\n",
        "\n",
        "print('Sample1 Size : ', sample1_size)\n",
        "print('Sample1 Mean : ', sample1_mean)\n",
        "print('Sample1 STD  : ', sample1_std)\n",
        "print('Sample2 Size : ', sample2_size)\n",
        "print('Sample2 Mean : ', sample2_mean)\n",
        "print('Sample2 STD  : ', sample2_std)\n",
        "print('Degrees of freedom : ', df)"
      ]
    },
    {
      "cell_type": "code",
      "execution_count": null,
      "id": "8cb9fcfe",
      "metadata": {
        "colab": {
          "base_uri": "https://localhost:8080/"
        },
        "id": "8cb9fcfe",
        "outputId": "c799764c-b030-44c4-b897-bc0c28eb0a21"
      },
      "outputs": [
        {
          "data": {
            "text/plain": [
              "4.722799245548623"
            ]
          },
          "execution_count": 31,
          "metadata": {},
          "output_type": "execute_result"
        }
      ],
      "source": [
        "# calculate t value\n",
        "t_value=t_score(sample1_size, sample1_mean, sample1_std, sample2_size, sample2_mean, sample2_std)\n",
        "t_value"
      ]
    },
    {
      "cell_type": "code",
      "execution_count": null,
      "id": "2f3d6f34",
      "metadata": {
        "id": "2f3d6f34"
      },
      "outputs": [],
      "source": [
        "# Critical t value\n",
        "alpha=0.01/2\n",
        "t_critical=abs(t.ppf(alpha,df))"
      ]
    },
    {
      "cell_type": "code",
      "execution_count": null,
      "id": "7c069e3d",
      "metadata": {
        "colab": {
          "base_uri": "https://localhost:8080/"
        },
        "id": "7c069e3d",
        "outputId": "9ccf3f6d-23ee-42e5-fbb6-33c99f5603e2"
      },
      "outputs": [
        {
          "name": "stdout",
          "output_type": "stream",
          "text": [
            "We have sufficient evidence to reject null hypothesis.\n"
          ]
        }
      ],
      "source": [
        "# Conclusion\n",
        "if t_value > t_critical:\n",
        "    print('We have sufficient evidence to reject null hypothesis.')\n",
        "else:\n",
        "    print('We fail to reject null hypothesis')"
      ]
    },
    {
      "cell_type": "markdown",
      "id": "4cfa8e41",
      "metadata": {
        "id": "4cfa8e41"
      },
      "source": [
        "---\n",
        "---\n",
        "**3. A researcher believes that a new drug has an effect on reducing cholesterol levels. The average cholesterol level in the population is 200 mg/dL. A sample of 15 patients who took the drug shows an average cholesterol level of 190 mg/dL with a standard deviation of 15 mg/dL. Conduct a one-sample t-test to determine if there is a significant reduction in cholesterol levels. Use a significance level of 0.01.**"
      ]
    },
    {
      "cell_type": "code",
      "execution_count": null,
      "id": "39641d68",
      "metadata": {
        "id": "39641d68"
      },
      "outputs": [],
      "source": [
        "# Calculating t score (One sample test)\n",
        "def t_score(sample_size, sample_mean, pop_mean, sample_std):\n",
        "    std_error = sample_std / sample_size ** 0.5\n",
        "    t = abs((sample_mean - pop_mean) / std_error)\n",
        "    return t"
      ]
    },
    {
      "cell_type": "code",
      "execution_count": null,
      "id": "38f49c66",
      "metadata": {
        "colab": {
          "base_uri": "https://localhost:8080/"
        },
        "id": "38f49c66",
        "outputId": "4a85d48a-eb58-4c00-b0ed-7d77a61f8eec"
      },
      "outputs": [
        {
          "name": "stdout",
          "output_type": "stream",
          "text": [
            "Sample Size :  15\n",
            "Sample Mean :  190\n",
            "Sample STD  :  15\n",
            "Degrees of freedom :  14\n"
          ]
        }
      ],
      "source": [
        "# write your code here\n",
        "sample_size=15\n",
        "df=sample_size-1\n",
        "pop_mean=200\n",
        "sample_mean=190\n",
        "sample_std=15\n",
        "\n",
        "print('Sample Size : ', sample_size)\n",
        "print('Sample Mean : ', sample_mean)\n",
        "print('Sample STD  : ', sample_std)\n",
        "print('Degrees of freedom : ', df)"
      ]
    },
    {
      "cell_type": "code",
      "execution_count": null,
      "id": "7a63f0fd",
      "metadata": {
        "colab": {
          "base_uri": "https://localhost:8080/"
        },
        "id": "7a63f0fd",
        "outputId": "d17bb745-1c99-40d9-d55a-46cceaec10df"
      },
      "outputs": [
        {
          "data": {
            "text/plain": [
              "2.5819888974716116"
            ]
          },
          "execution_count": 37,
          "metadata": {},
          "output_type": "execute_result"
        }
      ],
      "source": [
        "# Calculate t score\n",
        "t_value=t_score(sample_size, sample_mean, pop_mean, sample_std)\n",
        "t_value"
      ]
    },
    {
      "cell_type": "code",
      "execution_count": null,
      "id": "85533d42",
      "metadata": {
        "colab": {
          "base_uri": "https://localhost:8080/"
        },
        "id": "85533d42",
        "outputId": "64416ff9-cc01-4ac1-819c-eeb8326bef0e"
      },
      "outputs": [
        {
          "data": {
            "text/plain": [
              "2.6244940675602315"
            ]
          },
          "execution_count": 39,
          "metadata": {},
          "output_type": "execute_result"
        }
      ],
      "source": [
        "# calculating critical t value\n",
        "alpha=0.01\n",
        "t_critical=abs(t.ppf(alpha,df))\n",
        "t_critical"
      ]
    },
    {
      "cell_type": "code",
      "execution_count": null,
      "id": "f1ba7144",
      "metadata": {
        "colab": {
          "base_uri": "https://localhost:8080/"
        },
        "id": "f1ba7144",
        "outputId": "8a914c16-82a1-407c-e371-2aff88d48b0c"
      },
      "outputs": [
        {
          "name": "stdout",
          "output_type": "stream",
          "text": [
            "We fail to reject null hypothesis\n"
          ]
        }
      ],
      "source": [
        "# Conclusion\n",
        "if t_value > t_critical:\n",
        "    print('We have sufficient evidence to reject null hypothesis.')\n",
        "else:\n",
        "    print('We fail to reject null hypothesis')"
      ]
    },
    {
      "cell_type": "markdown",
      "id": "cfe362fe",
      "metadata": {
        "id": "cfe362fe"
      },
      "source": [
        "---\n",
        "---\n",
        "**4. A researcher wants to know if a new teaching method improves test scores. A class of 10 students takes a test before and after using the new method. The test scores before and after the method are as follows:**\n",
        "\n",
        "**Before: 70, 65, 80, 75, 85, 90, 60, 55, 70, 75 <br>\n",
        "After: 75, 68, 82, 78, 88, 95, 62, 58, 80, 68 <br>\n",
        "Conduct a paired t-test to determine if there is a significant improvement in test scores. Use a significance level of 0.05.**"
      ]
    },
    {
      "cell_type": "code",
      "execution_count": null,
      "id": "3af75c5c",
      "metadata": {
        "id": "3af75c5c"
      },
      "outputs": [],
      "source": [
        "def t_score(sample1, sample2):\n",
        "    differences = sample2 - sample1\n",
        "    mean_differences = differences.mean()\n",
        "    std_differences = differences.std()\n",
        "    t = mean_differences / (std_differences / len(sample1) ** 0.5)\n",
        "    return t"
      ]
    },
    {
      "cell_type": "code",
      "execution_count": null,
      "id": "ed628a47",
      "metadata": {
        "id": "ed628a47"
      },
      "outputs": [],
      "source": [
        "before = np.array([70, 65, 80, 75, 85, 90, 60, 55, 70, 75])\n",
        "after  = np.array([75, 68, 82, 78, 88, 95, 62, 58, 80, 68])"
      ]
    },
    {
      "cell_type": "code",
      "execution_count": null,
      "id": "b1e7d274",
      "metadata": {
        "colab": {
          "base_uri": "https://localhost:8080/"
        },
        "id": "b1e7d274",
        "outputId": "cd2a7c63-07b0-4897-f4a2-a07333067e58"
      },
      "outputs": [
        {
          "name": "stdout",
          "output_type": "stream",
          "text": [
            "Degrees of freedom :  9\n"
          ]
        }
      ],
      "source": [
        "sample_size = len(before)\n",
        "df = sample_size - 1\n",
        "print('Degrees of freedom : ', df)"
      ]
    },
    {
      "cell_type": "code",
      "execution_count": null,
      "id": "3966f192",
      "metadata": {
        "colab": {
          "base_uri": "https://localhost:8080/"
        },
        "id": "3966f192",
        "outputId": "ec617da7-6b80-4035-8131-187edbd26ba7"
      },
      "outputs": [
        {
          "data": {
            "text/plain": [
              "2.3005731630487136"
            ]
          },
          "execution_count": 45,
          "metadata": {},
          "output_type": "execute_result"
        }
      ],
      "source": [
        "# Calculate t score\n",
        "t_value=t_score(before, after)\n",
        "t_value"
      ]
    },
    {
      "cell_type": "code",
      "execution_count": null,
      "id": "22732cbd",
      "metadata": {
        "colab": {
          "background_save": true
        },
        "id": "22732cbd",
        "outputId": "964d649c-4d02-481d-b5ad-acd80d88078a"
      },
      "outputs": [
        {
          "data": {
            "text/plain": [
              "1.8331129326536337"
            ]
          },
          "execution_count": 46,
          "metadata": {},
          "output_type": "execute_result"
        }
      ],
      "source": [
        "# calculating critical t value\n",
        "alpha=0.05\n",
        "t_critical=abs(t.ppf(alpha,df))\n",
        "t_"
      ]
    },
    {
      "cell_type": "code",
      "execution_count": null,
      "id": "abfe874b",
      "metadata": {
        "colab": {
          "background_save": true
        },
        "id": "abfe874b",
        "outputId": "4ef02b02-ecd7-4361-9280-d468d94443f4"
      },
      "outputs": [
        {
          "name": "stdout",
          "output_type": "stream",
          "text": [
            "We have sufficient evidence to reject null hypothesis.\n"
          ]
        }
      ],
      "source": [
        "# Conclusion\n",
        "if t_value > t_critical:\n",
        "    print('We have sufficient evidence to reject null hypothesis.')\n",
        "else:\n",
        "    print('We fail to reject null hypothesis')"
      ]
    },
    {
      "cell_type": "markdown",
      "id": "e018c869",
      "metadata": {
        "id": "e018c869"
      },
      "source": [
        "---\n",
        "---\n",
        "**5. A scientist measures the concentration of a chemical in 6 different water samples from a lake and obtains the following concentrations (in mg/L): 3.5, 3.8, 4.0, 3.9, 4.1, and 4.3. Test whether the mean concentration is significantly different from 4 mg/L at a 0.05 significance level.**"
      ]
    },
    {
      "cell_type": "code",
      "execution_count": null,
      "id": "1098443a",
      "metadata": {
        "id": "1098443a"
      },
      "outputs": [],
      "source": [
        "# Calculating t score (One sample test)\n",
        "def t_score(sample_size, sample_mean, pop_mean, sample_std):\n",
        "    std_error = sample_std / sample_size ** 0.5\n",
        "    t = abs((sample_mean - pop_mean) / std_error)\n",
        "    return t"
      ]
    },
    {
      "cell_type": "code",
      "execution_count": null,
      "id": "b72b35c5",
      "metadata": {
        "id": "b72b35c5"
      },
      "outputs": [],
      "source": [
        "sample = np.array([3.5, 3.8, 4.0, 3.9, 4.1,4.3])"
      ]
    },
    {
      "cell_type": "code",
      "execution_count": null,
      "id": "e5573010",
      "metadata": {
        "id": "e5573010",
        "colab": {
          "base_uri": "https://localhost:8080/"
        },
        "outputId": "862ee71d-0d2f-4687-b872-7b159c1cfb97"
      },
      "outputs": [
        {
          "output_type": "stream",
          "name": "stdout",
          "text": [
            "Sample Size :  6\n",
            "Sample Mean :  3.9333333333333336\n",
            "Sample STD  :  0.24944382578492938\n",
            "Degrees of freedom :  5\n"
          ]
        }
      ],
      "source": [
        "# write your code here\n",
        "sample1_size=len(sample)\n",
        "df=sample_size-1\n",
        "sample_mean=sample.mean()\n",
        "sample_std=sample.std()\n",
        "print('Sample Size : ', sample_size)\n",
        "print('Sample Mean : ', sample_mean)\n",
        "print('Sample STD  : ', sample_std)\n",
        "print('Degrees of freedom : ', df)"
      ]
    },
    {
      "cell_type": "code",
      "execution_count": null,
      "id": "b443328e",
      "metadata": {
        "id": "b443328e",
        "colab": {
          "base_uri": "https://localhost:8080/"
        },
        "outputId": "937c7715-ba44-437a-99af-16450cd871d0"
      },
      "outputs": [
        {
          "output_type": "execute_result",
          "data": {
            "text/plain": [
              "1925.336445552161"
            ]
          },
          "metadata": {},
          "execution_count": 54
        }
      ],
      "source": [
        "# Calculate t score\n",
        "t_value= t_score(sample_size, sample_mean, pop_mean, sample_std)\n",
        "t_value"
      ]
    },
    {
      "cell_type": "code",
      "execution_count": null,
      "id": "e81cc7ca",
      "metadata": {
        "id": "e81cc7ca",
        "colab": {
          "base_uri": "https://localhost:8080/"
        },
        "outputId": "2d3c75ad-c554-4a43-de0c-34d5d8b77f9a"
      },
      "outputs": [
        {
          "output_type": "execute_result",
          "data": {
            "text/plain": [
              "2.0150483733330233"
            ]
          },
          "metadata": {},
          "execution_count": 55
        }
      ],
      "source": [
        "# calculating critical t value\n",
        "# calculating critical t value\n",
        "alpha=0.05\n",
        "t_critical=abs(t.ppf(alpha,df))\n",
        "t_critical"
      ]
    },
    {
      "cell_type": "code",
      "execution_count": null,
      "id": "b27ee8b0",
      "metadata": {
        "id": "b27ee8b0",
        "colab": {
          "base_uri": "https://localhost:8080/"
        },
        "outputId": "400a15a4-04d3-447d-e66c-5b616aed2ce5"
      },
      "outputs": [
        {
          "output_type": "stream",
          "name": "stdout",
          "text": [
            "We have sufficient evidence to reject null hypothesis.\n"
          ]
        }
      ],
      "source": [
        "# Conclusion\n",
        "if t_value > t_critical:\n",
        "    print('We have sufficient evidence to reject null hypothesis.')\n",
        "else:\n",
        "    print('We fail to reject null hypothesis')"
      ]
    },
    {
      "cell_type": "markdown",
      "id": "-fPMexVEqWpi",
      "metadata": {
        "id": "-fPMexVEqWpi"
      },
      "source": [
        "# End!"
      ]
    }
  ],
  "metadata": {
    "colab": {
      "provenance": [],
      "include_colab_link": true
    },
    "kernelspec": {
      "display_name": "Python 3 (ipykernel)",
      "language": "python",
      "name": "python3"
    },
    "language_info": {
      "codemirror_mode": {
        "name": "ipython",
        "version": 3
      },
      "file_extension": ".py",
      "mimetype": "text/x-python",
      "name": "python",
      "nbconvert_exporter": "python",
      "pygments_lexer": "ipython3",
      "version": "3.9.7"
    }
  },
  "nbformat": 4,
  "nbformat_minor": 5
}