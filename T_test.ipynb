{
  "nbformat": 4,
  "nbformat_minor": 0,
  "metadata": {
    "colab": {
      "provenance": [],
      "authorship_tag": "ABX9TyO8h5L6KeRkJ39tw/zDW7vW",
      "include_colab_link": true
    },
    "kernelspec": {
      "name": "python3",
      "display_name": "Python 3"
    },
    "language_info": {
      "name": "python"
    }
  },
  "cells": [
    {
      "cell_type": "markdown",
      "metadata": {
        "id": "view-in-github",
        "colab_type": "text"
      },
      "source": [
        "<a href=\"https://colab.research.google.com/github/Pranav210905/Inferial-Stastics/blob/main/T_test.ipynb\" target=\"_parent\"><img src=\"https://colab.research.google.com/assets/colab-badge.svg\" alt=\"Open In Colab\"/></a>"
      ]
    },
    {
      "cell_type": "code",
      "execution_count": 20,
      "metadata": {
        "id": "y-X9pnjs_Ibx"
      },
      "outputs": [],
      "source": [
        "import numpy as np\n",
        "import matplotlib.pyplot as plt\n",
        "from scipy.stats import norm\n",
        "from scipy.stats import t"
      ]
    },
    {
      "cell_type": "markdown",
      "source": [
        "One Sample Test"
      ],
      "metadata": {
        "id": "Hkr5jxcx_ybX"
      }
    },
    {
      "cell_type": "code",
      "source": [
        "def t_score(sample_size,sample_mean,pop_mean,sample_std):\n",
        "  std_error=sample_std/(sample_size**0.5)\n",
        "  t=abs((sample_mean-pop_mean)/std_error)\n",
        "  return t"
      ],
      "metadata": {
        "id": "UzA3u9jU_rvl"
      },
      "execution_count": 21,
      "outputs": []
    },
    {
      "cell_type": "markdown",
      "source": [
        "**A company want to test the claim that there batteries lost more than 40 hrs.Using a sample clai of 30 batteries claim it by using a signifacnce level of 0.005**\n",
        "\n"
      ],
      "metadata": {
        "id": "iACS_IP0rgeY"
      }
    },
    {
      "cell_type": "markdown",
      "source": [
        "H0:The sample mean is 40\n",
        "\n",
        "H1:The sample mean is less than 40"
      ],
      "metadata": {
        "id": "64aD-EY3s9fF"
      }
    },
    {
      "cell_type": "code",
      "source": [
        "sample=[37,36,34,36,36,39,36,43,40,34,34,35,35,35,42,30,34,34,36,39,37,43,38,39,43,41,39,35,43,33]"
      ],
      "metadata": {
        "id": "ltxlhl9rr3dz"
      },
      "execution_count": 22,
      "outputs": []
    },
    {
      "cell_type": "code",
      "source": [
        "sample=np.array(sample)"
      ],
      "metadata": {
        "id": "I7AQzNt4sibO"
      },
      "execution_count": 23,
      "outputs": []
    },
    {
      "cell_type": "code",
      "source": [
        "sample.mean()"
      ],
      "metadata": {
        "colab": {
          "base_uri": "https://localhost:8080/"
        },
        "id": "EnBijYKKspAE",
        "outputId": "3aae5a70-8783-4e5e-fe3e-21e0d2028479"
      },
      "execution_count": 24,
      "outputs": [
        {
          "output_type": "execute_result",
          "data": {
            "text/plain": [
              "37.2"
            ]
          },
          "metadata": {},
          "execution_count": 24
        }
      ]
    },
    {
      "cell_type": "code",
      "source": [
        "pop_mean=40\n",
        "sample_size=len(sample)\n",
        "sample_mean=sample.mean()\n",
        "sample_std=sample.std()\n",
        "degree_of_freedom=sample_size-1\n",
        "\n",
        "print(sample_size)\n",
        "print(degree_of_freedom)\n",
        "print(sample_mean)\n",
        "print(sample_std)"
      ],
      "metadata": {
        "colab": {
          "base_uri": "https://localhost:8080/"
        },
        "id": "Vh3RZcbVsqx3",
        "outputId": "ca17cdaa-8577-40e7-d5cd-0c964f2e7a5c"
      },
      "execution_count": 25,
      "outputs": [
        {
          "output_type": "stream",
          "name": "stdout",
          "text": [
            "30\n",
            "29\n",
            "37.2\n",
            "3.370459909270544\n"
          ]
        }
      ]
    },
    {
      "cell_type": "code",
      "source": [
        "t_value=t_score(sample_size,sample_mean,pop_mean,sample_std)\n",
        "t_value"
      ],
      "metadata": {
        "colab": {
          "base_uri": "https://localhost:8080/"
        },
        "id": "ISwKrDAss4z9",
        "outputId": "6b78ebd7-1ef9-4393-cfb8-c4f469deffcf"
      },
      "execution_count": 26,
      "outputs": [
        {
          "output_type": "execute_result",
          "data": {
            "text/plain": [
              "4.5501895951831095"
            ]
          },
          "metadata": {},
          "execution_count": 26
        }
      ]
    },
    {
      "cell_type": "code",
      "source": [
        "alpha=0.05\n",
        "t_crtical=abs(t.ppf(alpha,degree_of_freedom))\n",
        "t_crtical"
      ],
      "metadata": {
        "colab": {
          "base_uri": "https://localhost:8080/"
        },
        "id": "ZixzOmFJuDyP",
        "outputId": "8b852532-0f8c-40b1-e7e1-75d3aaea8c44"
      },
      "execution_count": 28,
      "outputs": [
        {
          "output_type": "execute_result",
          "data": {
            "text/plain": [
              "1.6991270265334977"
            ]
          },
          "metadata": {},
          "execution_count": 28
        }
      ]
    },
    {
      "cell_type": "code",
      "source": [
        "if t_value>t_crtical:\n",
        "  print(\"To reject the null Hypothesis\")\n",
        "else:\n",
        "  print(\"To not reject the null Hypothesis\")"
      ],
      "metadata": {
        "colab": {
          "base_uri": "https://localhost:8080/"
        },
        "id": "TQMkos_SwR-Q",
        "outputId": "b3f0904b-a6c8-4ccb-ad62-636d74f7d33a"
      },
      "execution_count": 30,
      "outputs": [
        {
          "output_type": "stream",
          "name": "stdout",
          "text": [
            "To reject the null Hypothesis\n"
          ]
        }
      ]
    },
    {
      "cell_type": "code",
      "source": [
        "# Function to calculate paired t score\n",
        "def t_score_paired(before, after):\n",
        "    differences = after - before\n",
        "    mean_diff = np.mean(differences)\n",
        "    std_diff = np.std(differences, ddof=1)\n",
        "    t_value = mean_diff / (std_diff / np.sqrt(len(before)))\n",
        "    return t_value\n",
        "\n",
        "before = np.array([70, 65, 80, 75, 85, 90, 60, 55, 70, 75])\n",
        "after = np.array([75, 68, 82, 78, 88, 95, 62, 58, 80, 68])\n",
        "df = len(before) - 1\n",
        "\n",
        "t_value = t_score_paired(before, after)\n",
        "\n",
        "alpha = 0.05 / 2\n",
        "t_critical = t.ppf(1 - alpha, df)\n",
        "\n",
        "\n",
        "if abs(t_value) > t_critical:\n",
        "    conclusion = 'Reject Null Hypothesis: Significant improvement in scores exists.'\n",
        "else:\n",
        "    conclusion = \"Fail to reject Null Hypothesis: No significant improvement in scores.\"\n",
        "\n",
        "t_value, t_critical, conclusion"
      ],
      "metadata": {
        "colab": {
          "base_uri": "https://localhost:8080/"
        },
        "id": "9RIqkZYrwsoC",
        "outputId": "f97f05ad-8458-4a6d-d04c-31103ed0f49b"
      },
      "execution_count": 32,
      "outputs": [
        {
          "output_type": "execute_result",
          "data": {
            "text/plain": [
              "(2.182515335727556,\n",
              " 2.2621571628540993,\n",
              " 'Fail to reject Null Hypothesis: No significant improvement in scores.')"
            ]
          },
          "metadata": {},
          "execution_count": 32
        }
      ]
    },
    {
      "cell_type": "code",
      "source": [],
      "metadata": {
        "id": "4ogqeg3Qx4No"
      },
      "execution_count": null,
      "outputs": []
    }
  ]
}