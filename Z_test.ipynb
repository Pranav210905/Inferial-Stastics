{
  "nbformat": 4,
  "nbformat_minor": 0,
  "metadata": {
    "colab": {
      "provenance": [],
      "authorship_tag": "ABX9TyOir+mAHzUWQZo6rb4hrGpG",
      "include_colab_link": true
    },
    "kernelspec": {
      "name": "python3",
      "display_name": "Python 3"
    },
    "language_info": {
      "name": "python"
    }
  },
  "cells": [
    {
      "cell_type": "markdown",
      "metadata": {
        "id": "view-in-github",
        "colab_type": "text"
      },
      "source": [
        "<a href=\"https://colab.research.google.com/github/Pranav210905/Inferial-Stastics/blob/main/Z_test.ipynb\" target=\"_parent\"><img src=\"https://colab.research.google.com/assets/colab-badge.svg\" alt=\"Open In Colab\"/></a>"
      ]
    },
    {
      "cell_type": "code",
      "execution_count": null,
      "metadata": {
        "id": "dxgPHiBo_k2B"
      },
      "outputs": [],
      "source": [
        "import numpy as np\n",
        "import pandas as pd\n",
        "from scipy.stats import norm"
      ]
    },
    {
      "cell_type": "markdown",
      "source": [
        "Right Tail Test"
      ],
      "metadata": {
        "id": "EQDpJFxeImXA"
      }
    },
    {
      "cell_type": "code",
      "source": [
        "def z_score(sample_size,pop_mean,pop_std,sample_mean):\n",
        "  sample_std=pop_std/(sample_size**0.5)\n",
        "  z=(sample_mean-pop_mean)/sample_std\n",
        "  return z"
      ],
      "metadata": {
        "id": "EcGaFlZaBUL-"
      },
      "execution_count": null,
      "outputs": []
    },
    {
      "cell_type": "markdown",
      "source": [
        "A sports analyst claims that Virat Kohli's average score in IPL matches is 40. and standard devation 9. You collect data from 50 matches and calculate an average less than 40. Can you reject the analyst’s claim?"
      ],
      "metadata": {
        "id": "rHU87OClCA7D"
      }
    },
    {
      "cell_type": "code",
      "source": [
        "sample=[41,16,57,7,33,35,36,33,43,39,38,41,39,44,39,38,36,43,40,39,32,40,19,36,34,33,40,89,39,36,34,34,44,43,44,41,37,40,36,68,5,37,36,34,32,40,33,34,44]"
      ],
      "metadata": {
        "id": "BroWsUMxEFlV"
      },
      "execution_count": null,
      "outputs": []
    },
    {
      "cell_type": "markdown",
      "source": [
        "H0:The average score is 40\n",
        "\n",
        "H1:The average score is less than 40"
      ],
      "metadata": {
        "id": "tCEKbmrKGPM6"
      }
    },
    {
      "cell_type": "code",
      "source": [
        "sample=np.array(sample)"
      ],
      "metadata": {
        "id": "JgGEIh-IGvmt"
      },
      "execution_count": null,
      "outputs": []
    },
    {
      "cell_type": "code",
      "source": [
        "pop_mean=40\n",
        "pop_std=9\n",
        "sample_size=len(sample)\n",
        "sample_mean=sample.mean()\n",
        "k=z_score(sample_size,pop_mean,pop_std,sample_mean)\n",
        "print(\"The value of z score\" ,k)\n",
        "print(sample_mean)"
      ],
      "metadata": {
        "colab": {
          "base_uri": "https://localhost:8080/"
        },
        "id": "K5S2xoQ4Gx5t",
        "outputId": "a3d089a7-a30c-4e56-e954-23de3601f588"
      },
      "execution_count": null,
      "outputs": [
        {
          "output_type": "stream",
          "name": "stdout",
          "text": [
            "The value of z score -1.7301587301587291\n",
            "37.775510204081634\n"
          ]
        }
      ]
    },
    {
      "cell_type": "code",
      "source": [
        "p=norm.cdf(k)\n",
        "print(p)"
      ],
      "metadata": {
        "colab": {
          "base_uri": "https://localhost:8080/"
        },
        "id": "ldO450HjHiL2",
        "outputId": "4e1a930f-79a0-4b08-9c88-9f2a9f189804"
      },
      "execution_count": null,
      "outputs": [
        {
          "output_type": "stream",
          "name": "stdout",
          "text": [
            "0.041800959778876885\n"
          ]
        }
      ]
    },
    {
      "cell_type": "code",
      "source": [
        "alpha=0.05\n",
        "if(p<alpha):\n",
        "  print(\"Null Hypothesis  is rejected\")\n",
        "else:\n",
        "  print(\"Null Hypothesis is not rejected\")"
      ],
      "metadata": {
        "colab": {
          "base_uri": "https://localhost:8080/"
        },
        "id": "l8jZIh6uLMlW",
        "outputId": "f9130d2a-a7e8-4766-f67b-638b4e5cc32e"
      },
      "execution_count": null,
      "outputs": [
        {
          "output_type": "stream",
          "name": "stdout",
          "text": [
            "Null Hypothesis  is rejected\n"
          ]
        }
      ]
    },
    {
      "cell_type": "markdown",
      "source": [
        "Left tail test"
      ],
      "metadata": {
        "id": "mlNptPk9IrRG"
      }
    },
    {
      "cell_type": "markdown",
      "source": [
        "A sports analyst claims that Virat Kohli's average score in IPL matches is 40. and standard devation 9. You doubt and collect data from 50 matches and calculate an average more than 40. Can you reject the analyst’s claim?"
      ],
      "metadata": {
        "id": "er2zAKJzN9RW"
      }
    },
    {
      "cell_type": "markdown",
      "source": [
        "H0:The average score is 40\n",
        "\n",
        "H1:The average score is more than 40"
      ],
      "metadata": {
        "id": "mNeqwWGFThLU"
      }
    },
    {
      "cell_type": "code",
      "source": [
        "sample1=[41,16,57,7,33,35,76,33,43,39,38,41,39,44,39,38,36,43,40,39,92,40,19,36,59,33,40,89,39,36,34,34,44,43,44,11,87,40,36,68,5,37,106,34,32,40,33,34,44]"
      ],
      "metadata": {
        "id": "L6wp87EWNGkp"
      },
      "execution_count": null,
      "outputs": []
    },
    {
      "cell_type": "code",
      "source": [
        "sample1=np.array(sample1)"
      ],
      "metadata": {
        "id": "5EzwRxBsPUjF"
      },
      "execution_count": null,
      "outputs": []
    },
    {
      "cell_type": "code",
      "source": [
        "pop_mean=40\n",
        "pop_std=9\n",
        "sample_size=len(sample1)\n",
        "sample_mean=sample1.mean()\n",
        "k=z_score(sample_size,pop_mean,pop_std,sample_mean)\n",
        "print(\"The value of z score\" ,k)\n",
        "print(sample_mean)"
      ],
      "metadata": {
        "colab": {
          "base_uri": "https://localhost:8080/"
        },
        "id": "pHdYbEuPPfTI",
        "outputId": "97fed64b-b252-4282-f3fe-62735c0e4230"
      },
      "execution_count": null,
      "outputs": [
        {
          "output_type": "stream",
          "name": "stdout",
          "text": [
            "The value of z score 1.6825396825396812\n",
            "42.16326530612245\n"
          ]
        }
      ]
    },
    {
      "cell_type": "code",
      "source": [
        "c=norm.cdf(k)\n",
        "p=1-c"
      ],
      "metadata": {
        "id": "Tu14yGlSPnAg"
      },
      "execution_count": null,
      "outputs": []
    },
    {
      "cell_type": "code",
      "source": [
        "alpha=0.05\n",
        "if(p<alpha):\n",
        "  print(\"Null Hypothesis  is rejected\")\n",
        "else:\n",
        "  print(\"Null Hypothesis is not rejected\")"
      ],
      "metadata": {
        "colab": {
          "base_uri": "https://localhost:8080/"
        },
        "id": "S_PKT7VEP88f",
        "outputId": "011262eb-98fd-46dd-908a-d860b492e98d"
      },
      "execution_count": null,
      "outputs": [
        {
          "output_type": "stream",
          "name": "stdout",
          "text": [
            "Null Hypothesis  is rejected\n"
          ]
        }
      ]
    },
    {
      "cell_type": "markdown",
      "source": [
        "A sports analyst claims that Virat Kohli's average score in IPL matches is 40. and standard devation 9. You doubt and collect data from 50 matches and calculate an average is not equal to 40. Can you reject the analyst’s claim?"
      ],
      "metadata": {
        "id": "aWjv9JYZTXjI"
      }
    },
    {
      "cell_type": "markdown",
      "source": [
        "H0:The average score is 40\n",
        "\n",
        "H1:The average score is not equal to 40"
      ],
      "metadata": {
        "id": "m87-7YcgTk2G"
      }
    },
    {
      "cell_type": "markdown",
      "source": [
        "Left and right tail test\n"
      ],
      "metadata": {
        "id": "nVVqy2dxIv2E"
      }
    },
    {
      "cell_type": "code",
      "source": [
        "sample2=[41,16,57,7,33,35,36,33,43,39,38,41,39,44,39,6,36,43,40,39,32,40,59,36,34,33,40,89,39,36,34,34,44,43,44,41,37,40,36,68,45,37,36,34,32,40,33,34,44]"
      ],
      "metadata": {
        "id": "btfwjv6uQL7a"
      },
      "execution_count": null,
      "outputs": []
    },
    {
      "cell_type": "code",
      "source": [
        "sample2=np.array(sample2)"
      ],
      "metadata": {
        "id": "cNd7S6FyJC8I"
      },
      "execution_count": null,
      "outputs": []
    },
    {
      "cell_type": "code",
      "source": [
        "pop_mean2=40\n",
        "pop_std2=9\n",
        "sample_size2=len(sample2)\n",
        "sample_mean2=sample2.mean()\n",
        "w=z_score(sample_size2,pop_mean2,pop_std2,sample_mean2)\n",
        "print(\"The value of z score\" ,w)\n",
        "print(sample_mean2)"
      ],
      "metadata": {
        "colab": {
          "base_uri": "https://localhost:8080/"
        },
        "id": "r54_1RxxJGQW",
        "outputId": "a8dd43fd-5a7b-437a-fa18-32c53a53c4bd"
      },
      "execution_count": null,
      "outputs": [
        {
          "output_type": "stream",
          "name": "stdout",
          "text": [
            "The value of z score -0.968253968253969\n",
            "38.755102040816325\n"
          ]
        }
      ]
    },
    {
      "cell_type": "code",
      "source": [
        "p=norm.cdf(w)\n",
        "print(p)"
      ],
      "metadata": {
        "colab": {
          "base_uri": "https://localhost:8080/"
        },
        "id": "haxqN2CBJN42",
        "outputId": "ebfc2b72-fcc4-4d65-a097-b61679d0d31c"
      },
      "execution_count": null,
      "outputs": [
        {
          "output_type": "stream",
          "name": "stdout",
          "text": [
            "0.1664587739475195\n"
          ]
        }
      ]
    },
    {
      "cell_type": "code",
      "source": [
        "alpha=0.05/2\n",
        "if p<alpha:\n",
        "  print(\"Reject Null hypothesis\")\n",
        "else:\n",
        "  print(\"Not reject the null hypothesis\")"
      ],
      "metadata": {
        "colab": {
          "base_uri": "https://localhost:8080/"
        },
        "id": "WDtanePBKU1i",
        "outputId": "41b26902-2f2d-4b39-c3a7-5e991b375aa9"
      },
      "execution_count": null,
      "outputs": [
        {
          "output_type": "stream",
          "name": "stdout",
          "text": [
            "Not reject the null hypothesis\n"
          ]
        }
      ]
    },
    {
      "cell_type": "markdown",
      "source": [
        "You have developed a nlp model on a range of scale (1-5).You claim that average rating is 4 How do you prove your client (Assuming that standarad devation is 0.5)"
      ],
      "metadata": {
        "id": "3fi0APF9UeLq"
      }
    },
    {
      "cell_type": "markdown",
      "source": [
        "H0:that the avearge rating is 4\n",
        "\n",
        "H1:that the average rating greater than 4"
      ],
      "metadata": {
        "id": "q0yutKAkU_GJ"
      }
    },
    {
      "cell_type": "code",
      "source": [
        "l=[5,3,3,4,5,4,3,5,4,3,4,4.5,2,4,3,3,4,4,5]\n",
        "o=np.array(l)\n",
        "nlp_pop_mean=4\n",
        "nlp_pop_std=0.5\n",
        "nlp_sample_size=len(o)\n",
        "nlp_sample_mean=o.mean()\n",
        "u=z_score(nlp_sample_size,nlp_pop_mean,nlp_pop_std,nlp_sample_mean)\n",
        "print(\"The sample mean is\",nlp_sample_mean)\n",
        "print(u)"
      ],
      "metadata": {
        "colab": {
          "base_uri": "https://localhost:8080/"
        },
        "id": "kGLIS5ftKux1",
        "outputId": "3d07d880-eb93-4644-9a9b-a58b8f8b8744"
      },
      "execution_count": null,
      "outputs": [
        {
          "output_type": "stream",
          "name": "stdout",
          "text": [
            "The sample mean is 3.8157894736842106\n",
            "-1.6059101370939317\n"
          ]
        }
      ]
    },
    {
      "cell_type": "code",
      "source": [
        "r=norm.cdf(u)\n",
        "r"
      ],
      "metadata": {
        "colab": {
          "base_uri": "https://localhost:8080/"
        },
        "id": "7LDaOBVvWLRa",
        "outputId": "e761b298-1408-412e-b4a5-1b44861dfa10"
      },
      "execution_count": null,
      "outputs": [
        {
          "output_type": "execute_result",
          "data": {
            "text/plain": [
              "0.05414682794950457"
            ]
          },
          "metadata": {},
          "execution_count": 32
        }
      ]
    },
    {
      "cell_type": "code",
      "source": [
        "alpha=0.05\n",
        "if r<alpha:\n",
        "  print(\"The Null hypothesis rejected by evidence\")\n",
        "else:\n",
        "  print(\"Not rejected\")"
      ],
      "metadata": {
        "colab": {
          "base_uri": "https://localhost:8080/"
        },
        "id": "IeNM9zE7WwHq",
        "outputId": "820009df-c903-4067-dd88-c69a25c1ffc3"
      },
      "execution_count": null,
      "outputs": [
        {
          "output_type": "stream",
          "name": "stdout",
          "text": [
            "Not rejected\n"
          ]
        }
      ]
    },
    {
      "cell_type": "code",
      "source": [],
      "metadata": {
        "id": "wTY5h49_XCti"
      },
      "execution_count": null,
      "outputs": []
    }
  ]
}