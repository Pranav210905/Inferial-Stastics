{
  "cells": [
    {
      "cell_type": "markdown",
      "metadata": {
        "id": "view-in-github",
        "colab_type": "text"
      },
      "source": [
        "<a href=\"https://colab.research.google.com/github/Pranav210905/Inferial-Stastics/blob/main/Hypothesis_Testing(Z_test).ipynb\" target=\"_parent\"><img src=\"https://colab.research.google.com/assets/colab-badge.svg\" alt=\"Open In Colab\"/></a>"
      ]
    },
    {
      "cell_type": "markdown",
      "source": [
        "## Z-Test Assignment"
      ],
      "metadata": {
        "id": "nUfb1Rn3nHbA"
      },
      "id": "nUfb1Rn3nHbA"
    },
    {
      "cell_type": "code",
      "execution_count": 1,
      "id": "c36489e0",
      "metadata": {
        "id": "c36489e0"
      },
      "outputs": [],
      "source": [
        "\n",
        "  # Run this code cell\n",
        "import numpy as np\n",
        "import matplotlib.pyplot as plt\n",
        "from scipy.stats import norm"
      ]
    },
    {
      "cell_type": "code",
      "execution_count": 2,
      "id": "46e13b02",
      "metadata": {
        "id": "46e13b02"
      },
      "outputs": [],
      "source": [
        "# Calculating Z score\n",
        "def z_score(sample_size, sample_mean, pop_mean, pop_std):\n",
        "    std_error = pop_std / sample_size ** 0.5\n",
        "    z = (sample_mean - pop_mean) / std_error\n",
        "    return z"
      ]
    },
    {
      "cell_type": "markdown",
      "id": "f1582560",
      "metadata": {
        "id": "f1582560"
      },
      "source": [
        "**For each problem assume the significance level to be 0.05 unless specified**"
      ]
    },
    {
      "cell_type": "markdown",
      "id": "efeeaff9",
      "metadata": {
        "id": "efeeaff9"
      },
      "source": [
        "---\n",
        "---\n",
        "**1. The average weight of students in an undergraduate college was reported to be 66kg with a standard deviation of 15.To verify this claim 100 students were selected at random, their weights are given below. Verify whether the average weight is more than the reported average.**"
      ]
    },
    {
      "cell_type": "code",
      "execution_count": 3,
      "id": "c0122213",
      "metadata": {
        "id": "c0122213"
      },
      "outputs": [],
      "source": [
        "sample = [69, 75, 79, 50, 57, 50, 57, 87, 73, 61, 71, 75, 77, 64, 54, 67, 76,\n",
        "          74, 58, 66, 52, 58, 83, 57, 51, 86, 85, 81, 77, 54, 75, 61, 62, 64,\n",
        "          81, 71, 75, 52, 73, 75, 67, 89, 53, 59, 83, 57, 70, 84, 57, 71, 60,\n",
        "          81, 66, 63, 54, 61, 72, 60, 61, 71, 74, 79, 61, 65, 79, 83, 59, 66,\n",
        "          85, 89, 74, 80, 56, 70, 58, 81, 84, 76, 89, 82, 72, 72, 87, 67, 85,\n",
        "          73, 76, 65, 86, 64, 84, 56, 65, 76, 53, 84, 59, 89, 89, 56]"
      ]
    },
    {
      "cell_type": "markdown",
      "id": "a7e1b59a",
      "metadata": {
        "id": "a7e1b59a"
      },
      "source": [
        "**H0 :** The average weight is 66 kg. <br>\n",
        "**H1 :** The average weight is more than 66 kg."
      ]
    },
    {
      "cell_type": "code",
      "execution_count": 4,
      "id": "f01d5043",
      "metadata": {
        "id": "f01d5043"
      },
      "outputs": [],
      "source": [
        "sample = np.array(sample)"
      ]
    },
    {
      "cell_type": "code",
      "execution_count": 7,
      "id": "01c3c4b9",
      "metadata": {
        "id": "01c3c4b9",
        "colab": {
          "base_uri": "https://localhost:8080/"
        },
        "outputId": "d7a4ed13-2e70-49c5-8991-2ec4a6742547"
      },
      "outputs": [
        {
          "output_type": "stream",
          "name": "stdout",
          "text": [
            "100\n",
            "70.0\n"
          ]
        }
      ],
      "source": [
        "#Write your code here\n",
        "# calculate sample mean and sample size\n",
        "pop_mean1=66\n",
        "pop_std1=15\n",
        "sample_size1=len(sample)\n",
        "sample_mean1=sample.mean()\n",
        "print(sample_size1)\n",
        "print(sample_mean1)"
      ]
    },
    {
      "cell_type": "code",
      "execution_count": 8,
      "id": "5c0f8e96",
      "metadata": {
        "id": "5c0f8e96",
        "colab": {
          "base_uri": "https://localhost:8080/"
        },
        "outputId": "22fde912-dd8d-47a6-d746-e13939c653c5"
      },
      "outputs": [
        {
          "output_type": "stream",
          "name": "stdout",
          "text": [
            "2.6666666666666665\n"
          ]
        }
      ],
      "source": [
        "# Calculate z score\n",
        "z1=z_score(sample_size1,sample_mean1,pop_mean1,pop_std1)\n",
        "print(z1)"
      ]
    },
    {
      "cell_type": "code",
      "execution_count": 15,
      "id": "f9dc4294",
      "metadata": {
        "id": "f9dc4294"
      },
      "outputs": [],
      "source": [
        "# Upper tailed test (right tailed test)\n",
        "# calculating p value\n",
        "e=norm.cdf(z1)\n",
        "p_value=1-e"
      ]
    },
    {
      "cell_type": "code",
      "execution_count": 16,
      "id": "9b610b5f",
      "metadata": {
        "id": "9b610b5f",
        "colab": {
          "base_uri": "https://localhost:8080/"
        },
        "outputId": "37b9ae15-955a-4719-dad0-cec572d220dc"
      },
      "outputs": [
        {
          "output_type": "stream",
          "name": "stdout",
          "text": [
            "We have sufficient evidence to reject null hypothesis.\n"
          ]
        }
      ],
      "source": [
        "# Conclusion\n",
        "alpha = 0.05\n",
        "if p_value < alpha:\n",
        "    print('We have sufficient evidence to reject null hypothesis.')\n",
        "else:\n",
        "    print('We fail to reject null hypothesis')\n"
      ]
    },
    {
      "cell_type": "markdown",
      "id": "fcf042f1",
      "metadata": {
        "id": "fcf042f1"
      },
      "source": [
        "---\n",
        "---\n",
        "**2. A basketball analyst claims that the average team points per game for Chicago Bulls are 108 with a standard standard deviation of 15. You doubt that the average team points are less than 108 and take a sample of scores from 50 matches. Form the hypotheses and test the claim made by the basketball analyst.**"
      ]
    },
    {
      "cell_type": "code",
      "execution_count": 17,
      "id": "79b1717e",
      "metadata": {
        "id": "79b1717e"
      },
      "outputs": [],
      "source": [
        "sample = [117,  99, 128,  81, 104, 102, 123,  90, 102, 128, 100, 110, 114,\n",
        "          122, 115, 127,  88, 113,  90, 111,  95, 116,  90,  82,  98,  90,\n",
        "          112, 123, 108, 120, 126, 120,  83, 121,  81,  98, 108,  84, 111,\n",
        "          110, 102, 114, 121,  80, 104,  82,  83, 104, 112, 114]"
      ]
    },
    {
      "cell_type": "markdown",
      "id": "d6a4987c",
      "metadata": {
        "id": "d6a4987c"
      },
      "source": [
        "**H0 :** The average points are 108. <br>\n",
        "**H1 :** The average points are less than 108."
      ]
    },
    {
      "cell_type": "code",
      "execution_count": 18,
      "id": "b7e41639",
      "metadata": {
        "id": "b7e41639"
      },
      "outputs": [],
      "source": [
        "sample = np.array(sample)"
      ]
    },
    {
      "cell_type": "code",
      "execution_count": 19,
      "id": "af7efa9c",
      "metadata": {
        "id": "af7efa9c",
        "colab": {
          "base_uri": "https://localhost:8080/"
        },
        "outputId": "30dea743-9821-4b59-eaff-0805452792b7"
      },
      "outputs": [
        {
          "output_type": "stream",
          "name": "stdout",
          "text": [
            "50\n",
            "105.12\n"
          ]
        }
      ],
      "source": [
        "# Write your code\n",
        "pop_mean1=108\n",
        "pop_std1=15\n",
        "sample_size1=len(sample)\n",
        "sample_mean1=sample.mean()\n",
        "print(sample_size1)\n",
        "print(sample_mean1)"
      ]
    },
    {
      "cell_type": "code",
      "execution_count": 20,
      "id": "b05841d9",
      "metadata": {
        "id": "b05841d9",
        "colab": {
          "base_uri": "https://localhost:8080/"
        },
        "outputId": "871841f8-7c16-4b66-da5d-9b606f014d82"
      },
      "outputs": [
        {
          "output_type": "stream",
          "name": "stdout",
          "text": [
            "-1.3576450198781693\n"
          ]
        }
      ],
      "source": [
        "# Calculate z score\n",
        "z1=z_score(sample_size1,sample_mean1,pop_mean1,pop_std1)\n",
        "print(z1)"
      ]
    },
    {
      "cell_type": "code",
      "execution_count": 22,
      "id": "40901dc4",
      "metadata": {
        "id": "40901dc4",
        "colab": {
          "base_uri": "https://localhost:8080/"
        },
        "outputId": "0a16f57b-cd0c-4e0e-e5c4-251889b9fd1e"
      },
      "outputs": [
        {
          "output_type": "execute_result",
          "data": {
            "text/plain": [
              "0.08728817517809112"
            ]
          },
          "metadata": {},
          "execution_count": 22
        }
      ],
      "source": [
        "# lower tailed test (left tailed test)\n",
        "# calculating p value\n",
        "p_value=norm.cdf(z1)\n",
        "p_value"
      ]
    },
    {
      "cell_type": "code",
      "execution_count": 23,
      "id": "d884db71",
      "metadata": {
        "id": "d884db71",
        "colab": {
          "base_uri": "https://localhost:8080/"
        },
        "outputId": "c05deca1-8681-41e5-f4fb-51307d0a0512"
      },
      "outputs": [
        {
          "output_type": "stream",
          "name": "stdout",
          "text": [
            "We fail to reject null hypothesis\n"
          ]
        }
      ],
      "source": [
        "# Conclusion\n",
        "alpha = 0.05\n",
        "if p_value < alpha:\n",
        "    print('We have sufficient evidence to reject null hypothesis.')\n",
        "else:\n",
        "    print('We fail to reject null hypothesis')"
      ]
    },
    {
      "cell_type": "markdown",
      "id": "49ba486a",
      "metadata": {
        "id": "49ba486a"
      },
      "source": [
        "---\n",
        "---\n",
        "**3. A military aircraft manufacturing company after multiple trials claims that their new fighter aircraft has a minimum takeoff ditance of 800 meters with a standard deviation of 20 meters. The military decides to test the minimum takeoff distance and conducts 20 takeoff trials. Based on the data given below test whether the minimum takeoff distance is not more than 800 meters.**"
      ]
    },
    {
      "cell_type": "code",
      "execution_count": 24,
      "id": "668dcd7d",
      "metadata": {
        "id": "668dcd7d"
      },
      "outputs": [],
      "source": [
        "sample = [784, 810, 801, 801, 806, 856, 800, 813, 802, 796, 771, 802, 799,\n",
        "          852, 856, 788, 811, 785, 817, 795]"
      ]
    },
    {
      "cell_type": "markdown",
      "id": "698a8759",
      "metadata": {
        "id": "698a8759"
      },
      "source": [
        "**H0 :** The average takeoff distance is 800. <br>\n",
        "**H1 :** The average takeoff distance is more than 800."
      ]
    },
    {
      "cell_type": "code",
      "execution_count": 25,
      "id": "2bb09baf",
      "metadata": {
        "id": "2bb09baf"
      },
      "outputs": [],
      "source": [
        "sample = np.array(sample)"
      ]
    },
    {
      "cell_type": "code",
      "execution_count": 26,
      "id": "7eb588bf",
      "metadata": {
        "id": "7eb588bf",
        "colab": {
          "base_uri": "https://localhost:8080/"
        },
        "outputId": "56a63bbd-89a1-4fc1-a8be-f5308049a5cf"
      },
      "outputs": [
        {
          "output_type": "stream",
          "name": "stdout",
          "text": [
            "20\n",
            "807.25\n"
          ]
        }
      ],
      "source": [
        "# write your code here\n",
        "# Write your code\n",
        "pop_mean1=800\n",
        "pop_std1=20\n",
        "sample_size1=len(sample)\n",
        "sample_mean1=sample.mean()\n",
        "print(sample_size1)\n",
        "print(sample_mean1)"
      ]
    },
    {
      "cell_type": "code",
      "execution_count": 27,
      "id": "23571495",
      "metadata": {
        "id": "23571495",
        "colab": {
          "base_uri": "https://localhost:8080/"
        },
        "outputId": "8bc2da09-9e58-40d1-9df4-262e1db28e38"
      },
      "outputs": [
        {
          "output_type": "stream",
          "name": "stdout",
          "text": [
            "1.6211492836873473\n"
          ]
        }
      ],
      "source": [
        "# Calculate z score\n",
        "z1=z_score(sample_size1,sample_mean1,pop_mean1,pop_std1)\n",
        "print(z1)"
      ]
    },
    {
      "cell_type": "code",
      "execution_count": 28,
      "id": "3e7e87d7",
      "metadata": {
        "id": "3e7e87d7",
        "colab": {
          "base_uri": "https://localhost:8080/"
        },
        "outputId": "aa80d046-6080-442a-fd42-94105611adc0"
      },
      "outputs": [
        {
          "output_type": "execute_result",
          "data": {
            "text/plain": [
              "0.05249281327284039"
            ]
          },
          "metadata": {},
          "execution_count": 28
        }
      ],
      "source": [
        "# upper tailed test\n",
        "# calculating p value\n",
        "p_value=1-norm.cdf(z1)\n",
        "p_value"
      ]
    },
    {
      "cell_type": "code",
      "execution_count": 29,
      "id": "0e02c7b4",
      "metadata": {
        "id": "0e02c7b4",
        "colab": {
          "base_uri": "https://localhost:8080/"
        },
        "outputId": "ffd9549a-9b4a-4b2d-cf7d-21ca75c27dca"
      },
      "outputs": [
        {
          "output_type": "stream",
          "name": "stdout",
          "text": [
            "We fail to reject null hypothesis\n"
          ]
        }
      ],
      "source": [
        "# Conclusion\n",
        "alpha = 0.05\n",
        "if p_value < alpha/2:\n",
        "    print('We have sufficient evidence to reject null hypothesis.')\n",
        "else:\n",
        "    print('We fail to reject null hypothesis')"
      ]
    },
    {
      "cell_type": "markdown",
      "id": "ffe865cd",
      "metadata": {
        "id": "ffe865cd"
      },
      "source": [
        "---\n",
        "---\n",
        "**4. A Company claims that the average rating recieved by their product is 4.2 out of 5 with a standard deviation 0f 0.7. You doubt the claim and select ratings from 20 online reviews randomly. Based on the ratings given below verify whether the average ratings are less than the claim by the company.**    "
      ]
    },
    {
      "cell_type": "code",
      "execution_count": 30,
      "id": "342b8589",
      "metadata": {
        "id": "342b8589"
      },
      "outputs": [],
      "source": [
        "sample = [5,3,3,4,5,4,3,5,4,3,4,4.5,2,4,3,3,4,5,4,5]"
      ]
    },
    {
      "cell_type": "markdown",
      "id": "857329b2",
      "metadata": {
        "id": "857329b2"
      },
      "source": [
        "**H0 :** The average rating is 4.2. <br>\n",
        "**H1 :** The average score is less than 4.2."
      ]
    },
    {
      "cell_type": "code",
      "execution_count": 31,
      "id": "bc2f6725",
      "metadata": {
        "id": "bc2f6725",
        "colab": {
          "base_uri": "https://localhost:8080/"
        },
        "outputId": "dc12ff1e-317a-442d-d368-cf9ab5fabf8d"
      },
      "outputs": [
        {
          "output_type": "stream",
          "name": "stdout",
          "text": [
            "20\n",
            "3.875\n"
          ]
        }
      ],
      "source": [
        "# write your code here\n",
        "sample=np.array(sample)\n",
        "pop_mean1=4.2\n",
        "pop_std1=0.7\n",
        "sample_size1=len(sample)\n",
        "sample_mean1=sample.mean()\n",
        "print(sample_size1)\n",
        "print(sample_mean1)"
      ]
    },
    {
      "cell_type": "code",
      "execution_count": 32,
      "id": "7be8b672",
      "metadata": {
        "id": "7be8b672",
        "colab": {
          "base_uri": "https://localhost:8080/"
        },
        "outputId": "bb4403f6-24be-40b4-e371-45f0540de8bf"
      },
      "outputs": [
        {
          "output_type": "stream",
          "name": "stdout",
          "text": [
            "-2.076348836249806\n"
          ]
        }
      ],
      "source": [
        "# Calculate z score\n",
        "z1=z_score(sample_size1,sample_mean1,pop_mean1,pop_std1)\n",
        "print(z1)"
      ]
    },
    {
      "cell_type": "code",
      "execution_count": 33,
      "id": "7999471d",
      "metadata": {
        "id": "7999471d",
        "colab": {
          "base_uri": "https://localhost:8080/"
        },
        "outputId": "8d2da61c-0ff0-47e7-de3b-c0608531ccab"
      },
      "outputs": [
        {
          "output_type": "execute_result",
          "data": {
            "text/plain": [
              "0.018930849801457632"
            ]
          },
          "metadata": {},
          "execution_count": 33
        }
      ],
      "source": [
        "# calculating p value\n",
        "p_value=norm.cdf(z1)\n",
        "p_value"
      ]
    },
    {
      "cell_type": "code",
      "execution_count": 34,
      "id": "f15e1f8f",
      "metadata": {
        "id": "f15e1f8f",
        "colab": {
          "base_uri": "https://localhost:8080/"
        },
        "outputId": "ca07dbc7-5bef-48ba-fc8b-32873704e547"
      },
      "outputs": [
        {
          "output_type": "stream",
          "name": "stdout",
          "text": [
            "We have sufficient evidence to reject null hypothesis.\n"
          ]
        }
      ],
      "source": [
        "# Conclusion\n",
        "alpha = 0.05\n",
        "if p_value < alpha:\n",
        "    print('We have sufficient evidence to reject null hypothesis.')\n",
        "else:\n",
        "    print('We fail to reject null hypothesis')"
      ]
    },
    {
      "cell_type": "markdown",
      "id": "977ce02b",
      "metadata": {
        "id": "977ce02b"
      },
      "source": [
        "---\n",
        "---\n",
        "**5. A salt producer uses a machine to fill the bags with salt and each bag has to be 1 kg each with a standard deviation of 0.003 kg. A randomly selected sample of 50 bags resulted in a mean of 1.01 kg.\n",
        "Perform the suitable test and verify if the machine needs to be recalibrated.**"
      ]
    },
    {
      "cell_type": "markdown",
      "id": "5b97877d",
      "metadata": {
        "id": "5b97877d"
      },
      "source": [
        "**H0 :** The weight is 1kg. <br>\n",
        "**H1 :** The weight is not 1 kg."
      ]
    },
    {
      "cell_type": "code",
      "execution_count": 39,
      "id": "042ee991",
      "metadata": {
        "id": "042ee991",
        "colab": {
          "base_uri": "https://localhost:8080/"
        },
        "outputId": "d0fb41b7-9b2a-417f-97a6-b7473d26a08d"
      },
      "outputs": [
        {
          "output_type": "stream",
          "name": "stdout",
          "text": [
            "23.570226039551606\n"
          ]
        }
      ],
      "source": [
        "# calculate sample mean and sample size\n",
        "pop_mean1=1\n",
        "pop_std1=0.003\n",
        "sample_size1=50\n",
        "sample_mean1=1.01\n"
      ]
    },
    {
      "cell_type": "code",
      "execution_count": 38,
      "id": "2f359e29",
      "metadata": {
        "id": "2f359e29",
        "colab": {
          "base_uri": "https://localhost:8080/"
        },
        "outputId": "080c8b6d-d8b4-4b34-c42e-fb06c390004b"
      },
      "outputs": [
        {
          "output_type": "stream",
          "name": "stdout",
          "text": [
            "23.570226039551606\n"
          ]
        }
      ],
      "source": [
        "# Calculate z score\n",
        "z1=z_score(sample_size1,sample_mean1,pop_mean1,pop_std1)\n",
        "print(z1)"
      ]
    },
    {
      "cell_type": "code",
      "execution_count": 40,
      "id": "53d616fc",
      "metadata": {
        "id": "53d616fc",
        "colab": {
          "base_uri": "https://localhost:8080/"
        },
        "outputId": "2437fbd4-36d6-4b30-8f5b-58bd2c8b4d54"
      },
      "outputs": [
        {
          "output_type": "execute_result",
          "data": {
            "text/plain": [
              "1.0"
            ]
          },
          "metadata": {},
          "execution_count": 40
        }
      ],
      "source": [
        "# calculating p value\n",
        "p_value=norm.cdf(z1)\n",
        "p_value"
      ]
    },
    {
      "cell_type": "code",
      "execution_count": 41,
      "id": "837807cf",
      "metadata": {
        "id": "837807cf",
        "colab": {
          "base_uri": "https://localhost:8080/"
        },
        "outputId": "2580a3c4-a19d-44d4-c3fa-5ea2f460bf96"
      },
      "outputs": [
        {
          "output_type": "stream",
          "name": "stdout",
          "text": [
            "We fail to reject null hypothesis\n"
          ]
        }
      ],
      "source": [
        "# Conclusion\n",
        "alpha = 0.05\n",
        "if p_value < alpha/2:\n",
        "    print('We have sufficient evidence to reject null hypothesis.')\n",
        "else:\n",
        "    print('We fail to reject null hypothesis')"
      ]
    },
    {
      "cell_type": "code",
      "execution_count": null,
      "id": "62af53b3",
      "metadata": {
        "id": "62af53b3"
      },
      "outputs": [],
      "source": []
    },
    {
      "cell_type": "markdown",
      "source": [
        "# End"
      ],
      "metadata": {
        "id": "dLZVPKxJpHLw"
      },
      "id": "dLZVPKxJpHLw"
    }
  ],
  "metadata": {
    "kernelspec": {
      "display_name": "Python 3 (ipykernel)",
      "language": "python",
      "name": "python3"
    },
    "language_info": {
      "codemirror_mode": {
        "name": "ipython",
        "version": 3
      },
      "file_extension": ".py",
      "mimetype": "text/x-python",
      "name": "python",
      "nbconvert_exporter": "python",
      "pygments_lexer": "ipython3",
      "version": "3.9.7"
    },
    "colab": {
      "provenance": [],
      "include_colab_link": true
    }
  },
  "nbformat": 4,
  "nbformat_minor": 5
}